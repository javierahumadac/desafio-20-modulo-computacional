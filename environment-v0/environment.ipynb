{
 "cells": [
  {
   "cell_type": "markdown",
   "metadata": {},
   "source": [
    "# Environment"
   ]
  },
  {
   "cell_type": "markdown",
   "metadata": {},
   "source": [
    "### Imports"
   ]
  },
  {
   "cell_type": "code",
   "execution_count": 2,
   "metadata": {},
   "outputs": [],
   "source": [
    "import gym\n",
    "from gym import Env, spaces\n",
    "import numpy as np\n",
    "\n",
    "# Utilidad\n",
    "import json\n",
    "import copy # Para copiar las variables originales a las que el ambiente edite para cuando se haga un reset"
   ]
  },
  {
   "cell_type": "markdown",
   "metadata": {},
   "source": [
    "### Data Example"
   ]
  },
  {
   "cell_type": "markdown",
   "metadata": {},
   "source": [
    "#### Estudiantes"
   ]
  },
  {
   "cell_type": "code",
   "execution_count": 53,
   "metadata": {},
   "outputs": [],
   "source": [
    "estudiantes_json = [\n",
    "    {\n",
    "        \"nombre\": \"Javier Ahumada\",\n",
    "        \"preferencias\": [\n",
    "            0,\n",
    "            1,\n",
    "            2\n",
    "        ]\n",
    "    },\n",
    "    {\n",
    "        \"nombre\": \"Santiago Lopez\",\n",
    "        \"preferencias\": [\n",
    "            0,\n",
    "            1,\n",
    "            2\n",
    "        ]\n",
    "    },\n",
    "    {\n",
    "        \"nombre\": \"Cristian Vega\",\n",
    "        \"preferencias\": [\n",
    "            0,\n",
    "            1,\n",
    "            2\n",
    "        ]\n",
    "    },\n",
    "    {\n",
    "        \"nombre\": \"Cristian Vega\",\n",
    "        \"preferencias\": [\n",
    "            0,\n",
    "            1,\n",
    "            2\n",
    "        ]\n",
    "    },\n",
    "    {\n",
    "        \"nombre\": \"Cristian Vega\",\n",
    "        \"preferencias\": [\n",
    "            3,\n",
    "            1,\n",
    "            2\n",
    "        ]\n",
    "    }\n",
    "]"
   ]
  },
  {
   "cell_type": "markdown",
   "metadata": {},
   "source": [
    "#### Desafíos"
   ]
  },
  {
   "cell_type": "code",
   "execution_count": 54,
   "metadata": {},
   "outputs": [],
   "source": [
    "desafios_json = [\n",
    "    {\n",
    "        \"estudiantes\": []\n",
    "    },\n",
    "    {\n",
    "        \"estudiantes\": []\n",
    "    },\n",
    "    {\n",
    "        \"estudiantes\": []\n",
    "    },\n",
    "    {\n",
    "        \"estudiantes\": []\n",
    "    }\n",
    "]\n",
    "\n",
    "# desafios = [[0,0,0,0,0,0,0],[0,0,0,0,0,0,0],[0,0,0,0,0,0,0],[0,0,0,0,0,0,0]]"
   ]
  },
  {
   "cell_type": "markdown",
   "metadata": {},
   "source": [
    "### Funciones útiles"
   ]
  },
  {
   "cell_type": "markdown",
   "metadata": {},
   "source": [
    "### Definición"
   ]
  },
  {
   "cell_type": "code",
   "execution_count": 34,
   "metadata": {},
   "outputs": [],
   "source": [
    "class Estudiante(object):\n",
    "    def __init__(self, id, preferencias = []):\n",
    "        self.id = id\n",
    "        self.preferencias = preferencias # IDs de desafíos\n",
    "\n",
    "class Desafio(object):\n",
    "    def __init__(self, id, estudiantes : list = []):\n",
    "        self.id = id\n",
    "        self.estudiantes = estudiantes # IDs de estudiantes\n",
    "\n",
    "    def push(self, estudiante):\n",
    "        self.estudiantes.append(estudiante)"
   ]
  },
  {
   "cell_type": "code",
   "execution_count": 59,
   "metadata": {},
   "outputs": [
    {
     "name": "stdout",
     "output_type": "stream",
     "text": [
      "5 4\n"
     ]
    }
   ],
   "source": [
    "class OrganizationEnvironment(Env):\n",
    "    def __init__(self, estudiantes_json, desafios_json):\n",
    "        super(OrganizationEnvironment, self).__init__()\n",
    "        self.num_estudiantes = len(estudiantes_json)\n",
    "        self.num_desafios = len(desafios_json)\n",
    "        self.estudiantes_json = estudiantes_json\n",
    "        self.desafios_json = desafios_json\n",
    "\n",
    "        # Espacio de observación\n",
    "        self.reset()\n",
    "        self.observation_space = spaces.MultiBinary(len(self.state))\n",
    "        #TODO Cambiar espacio multibinario a multidiscreto\n",
    "        #TODO Determinar restricciones blandas y absolutas\n",
    "        #TODO Maskable: Invalid action masking\n",
    "\n",
    "        # Definición de espacio de acción\n",
    "        print(self.num_estudiantes, self.num_desafios)\n",
    "        self.action_space = spaces.MultiDiscrete([self.num_estudiantes, self.num_desafios])\n",
    "\n",
    "\n",
    "    def dict_to_binary(self, input_dict):\n",
    "        # Convertir el diccionario a una cadena JSON\n",
    "        json_str = json.dumps(input_dict)\n",
    "        # Convertir la cadena JSON a bytes\n",
    "        json_bytes = json_str.encode('utf-8')\n",
    "        # Convertir los bytes a su representación en 1's y 0's\n",
    "        bit_array = [int(bit) for byte in json_bytes for bit in format(byte, '08b')]\n",
    "        return bit_array\n",
    "\n",
    "    def render(self):\n",
    "        print(self.json_state)\n",
    "\n",
    "    def reset(self):\n",
    "        estudiantes = [] # [[1,2,3],[2,3,4],...]\n",
    "        for estudiante in self.estudiantes_json:\n",
    "            estudiantes.append(estudiante[\"preferencias\"])\n",
    "\n",
    "        self.json_state = {\n",
    "            \"desafios\" : [[ 0 for _ in range(self.num_estudiantes)] for _ in range(self.num_desafios)],\n",
    "            \"estudiantes\" : estudiantes\n",
    "        }\n",
    "\n",
    "\n",
    "        self.state = self.dict_to_binary(self.json_state)\n",
    "        # print(\"self.json_state\", self.json_state)\n",
    "        # print(\"self.state\", self.state)\n",
    "\n",
    "        return self.state\n",
    "\n",
    "    def step(self, action):\n",
    "        assert self.action_space.contains(action), \"Invalid Action\"\n",
    "\n",
    "        id_estudiante = action[0]\n",
    "        id_desafio = action[1]\n",
    "\n",
    "        reward = 0\n",
    "        if (self.check_possible(action)):\n",
    "            self.json_state[\"desafios\"][id_desafio][id_estudiante] = 1\n",
    "            suma_estudiantes_dentro_desafio = sum(self.json_state[\"desafios\"][id_desafio]) # Suma de los estudiantes dentro del desafío seleccionado\n",
    "            if(suma_estudiantes_dentro_desafio > 3):\n",
    "                reward = -20\n",
    "            else:\n",
    "                reward += suma_estudiantes_dentro_desafio\n",
    "            try:\n",
    "                esta_en_sus_prioridades = len(self.json_state[\"estudiantes\"][id_estudiante]) - self.json_state[\"estudiantes\"][id_estudiante].index(id_desafio)\n",
    "                reward += esta_en_sus_prioridades\n",
    "            except ValueError:\n",
    "                reward += -5\n",
    "\n",
    "        else:\n",
    "            reward = -20\n",
    "\n",
    "        self.state = self.dict_to_binary(self.json_state)\n",
    "\n",
    "        observation = self.state\n",
    "        done = self.check_done()\n",
    "        info = {}\n",
    "\n",
    "        return observation, reward, done, info\n",
    "\n",
    "    def check_possible(self, action):\n",
    "        # Verificar si estudiante ya tiene desafío asignado\n",
    "        contador_de_instancias = 0\n",
    "        for desafio in self.json_state[\"desafios\"]:\n",
    "            contador_de_instancias += desafio[action[0]]\n",
    "        if(contador_de_instancias > 0):\n",
    "            return False\n",
    "        else:\n",
    "            return True\n",
    "\n",
    "    def get_reward(self):\n",
    "        # Implementar función de reward\n",
    "        return 1\n",
    "\n",
    "    def check_done(self):\n",
    "        # Condición para finalizar el episodio\n",
    "        contador_de_estudiantes = 0\n",
    "        for desafio in self.json_state[\"desafios\"]:\n",
    "            for estudiante in desafio:\n",
    "                contador_de_estudiantes += estudiante\n",
    "\n",
    "        if(contador_de_estudiantes == self.num_estudiantes):\n",
    "            return True\n",
    "\n",
    "        return False\n",
    "\n",
    "env = OrganizationEnvironment(estudiantes_json, desafios_json)\n"
   ]
  },
  {
   "cell_type": "code",
   "execution_count": 58,
   "metadata": {},
   "outputs": [
    {
     "name": "stdout",
     "output_type": "stream",
     "text": [
      "3\n",
      "-5\n",
      "4\n",
      "5\n",
      "-20\n",
      "-20\n",
      "-20\n",
      "-20\n",
      "-20\n",
      "-20\n",
      "-20\n",
      "-20\n",
      "5\n"
     ]
    }
   ],
   "source": [
    "env.reset()\n",
    "while True:\n",
    "    action = env.action_space.sample()\n",
    "    obs, reward, done, info = env.step(action)\n",
    "\n",
    "    print(reward)\n",
    "\n",
    "    if done == True:\n",
    "        break\n",
    "\n",
    "# print(binary_to_dict2(obs))"
   ]
  },
  {
   "cell_type": "code",
   "execution_count": 60,
   "metadata": {},
   "outputs": [
    {
     "name": "stderr",
     "output_type": "stream",
     "text": [
      "/home/javo/.local/lib/python3.8/site-packages/stable_baselines3/common/vec_env/patch_gym.py:49: UserWarning: You provided an OpenAI Gym environment. We strongly recommend transitioning to Gymnasium environments. Stable-Baselines3 is automatically wrapping your environments in a compatibility layer, which could potentially cause issues.\n",
      "  warnings.warn(\n"
     ]
    },
    {
     "name": "stdout",
     "output_type": "stream",
     "text": [
      "3 {'desafios': [[0, 0, 0, 0, 0], [0, 1, 0, 0, 0], [0, 0, 0, 0, 0], [0, 0, 0, 0, 0]], 'estudiantes': [[0, 1, 2], [0, 1, 2], [0, 1, 2], [0, 1, 2], [3, 1, 2]]}\n",
      "2 {'desafios': [[0, 0, 0, 0, 0], [0, 1, 0, 0, 0], [0, 0, 1, 0, 0], [0, 0, 0, 0, 0]], 'estudiantes': [[0, 1, 2], [0, 1, 2], [0, 1, 2], [0, 1, 2], [3, 1, 2]]}\n",
      "-4 {'desafios': [[0, 0, 0, 0, 0], [0, 1, 0, 0, 0], [0, 0, 1, 0, 0], [1, 0, 0, 0, 0]], 'estudiantes': [[0, 1, 2], [0, 1, 2], [0, 1, 2], [0, 1, 2], [3, 1, 2]]}\n",
      "-20 {'desafios': [[0, 0, 0, 0, 0], [0, 1, 0, 0, 0], [0, 0, 1, 0, 0], [1, 0, 0, 0, 0]], 'estudiantes': [[0, 1, 2], [0, 1, 2], [0, 1, 2], [0, 1, 2], [3, 1, 2]]}\n",
      "-20 {'desafios': [[0, 0, 0, 0, 0], [0, 1, 0, 0, 0], [0, 0, 1, 0, 0], [1, 0, 0, 0, 0]], 'estudiantes': [[0, 1, 2], [0, 1, 2], [0, 1, 2], [0, 1, 2], [3, 1, 2]]}\n",
      "-20 {'desafios': [[0, 0, 0, 0, 0], [0, 1, 0, 0, 0], [0, 0, 1, 0, 0], [1, 0, 0, 0, 0]], 'estudiantes': [[0, 1, 2], [0, 1, 2], [0, 1, 2], [0, 1, 2], [3, 1, 2]]}\n",
      "4 {'desafios': [[0, 0, 0, 1, 0], [0, 1, 0, 0, 0], [0, 0, 1, 0, 0], [1, 0, 0, 0, 0]], 'estudiantes': [[0, 1, 2], [0, 1, 2], [0, 1, 2], [0, 1, 2], [3, 1, 2]]}\n",
      "-20 {'desafios': [[0, 0, 0, 1, 0], [0, 1, 0, 0, 0], [0, 0, 1, 0, 0], [1, 0, 0, 0, 0]], 'estudiantes': [[0, 1, 2], [0, 1, 2], [0, 1, 2], [0, 1, 2], [3, 1, 2]]}\n",
      "-20 {'desafios': [[0, 0, 0, 1, 0], [0, 1, 0, 0, 0], [0, 0, 1, 0, 0], [1, 0, 0, 0, 0]], 'estudiantes': [[0, 1, 2], [0, 1, 2], [0, 1, 2], [0, 1, 2], [3, 1, 2]]}\n",
      "-20 {'desafios': [[0, 0, 0, 1, 0], [0, 1, 0, 0, 0], [0, 0, 1, 0, 0], [1, 0, 0, 0, 0]], 'estudiantes': [[0, 1, 2], [0, 1, 2], [0, 1, 2], [0, 1, 2], [3, 1, 2]]}\n",
      "5 {'desafios': [[0, 0, 0, 1, 0], [0, 1, 0, 0, 0], [0, 0, 1, 0, 0], [1, 0, 0, 0, 1]], 'estudiantes': [[0, 1, 2], [0, 1, 2], [0, 1, 2], [0, 1, 2], [3, 1, 2]]}\n"
     ]
    }
   ],
   "source": [
    "from stable_baselines3 import PPO\n",
    "from stable_baselines3.common.env_util import make_vec_env\n",
    "\n",
    "\n",
    "\n",
    "model = PPO(\"MlpPolicy\", env).learn(total_timesteps=50_000)\n",
    "\n",
    "obs = env.reset()\n",
    "\n",
    "while True:\n",
    "    action, _states = model.predict(obs)\n",
    "    obs, reward, done, info = env.step(action)\n",
    "\n",
    "    print(reward, env.json_state)\n",
    "\n",
    "    if done == True:\n",
    "        break\n",
    "\n",
    "# print(binary_to_dict(obs))"
   ]
  },
  {
   "cell_type": "code",
   "execution_count": 44,
   "metadata": {},
   "outputs": [
    {
     "name": "stdout",
     "output_type": "stream",
     "text": [
      "[0, 1, 1, 1, 1, 0, 1, 1, 0, 0, 1, 0, 0, 0, 1, 0, 0, 1, 1, 0, 0, 1, 0, 0, 0, 1, 1, 0, 0, 1, 0, 1, 0, 1, 1, 1, 0, 0, 1, 1, 0, 1, 1, 0, 0, 0, 0, 1, 0, 1, 1, 0, 0, 1, 1, 0, 0, 1, 1, 0, 1, 0, 0, 1, 0, 1, 1, 0, 1, 1, 1, 1, 0, 1, 1, 1, 0, 0, 1, 1, 0, 0, 1, 0, 0, 0, 1, 0, 0, 0, 1, 1, 1, 0, 1, 0, 0, 0, 1, 0, 0, 0, 0, 0, 0, 1, 0, 1, 1, 0, 1, 1, 0, 1, 0, 1, 1, 0, 1, 1, 0, 0, 1, 1, 0, 0, 0, 0, 0, 0, 1, 0, 1, 1, 0, 0, 0, 0, 1, 0, 0, 0, 0, 0, 0, 0, 1, 1, 0, 0, 0, 0, 0, 0, 1, 0, 1, 1, 0, 0, 0, 0, 1, 0, 0, 0, 0, 0, 0, 0, 1, 1, 0, 0, 0, 0, 0, 0, 1, 0, 1, 1, 0, 0, 0, 0, 1, 0, 0, 0, 0, 0, 0, 0, 1, 1, 0, 0, 0, 0, 0, 0, 1, 0, 1, 1, 0, 0, 0, 0, 1, 0, 0, 0, 0, 0, 0, 0, 1, 1, 0, 0, 0, 0, 0, 1, 0, 1, 1, 1, 0, 1, 0, 0, 1, 0, 1, 1, 0, 0, 0, 0, 1, 0, 0, 0, 0, 0, 0, 1, 0, 1, 1, 0, 1, 1, 0, 0, 1, 1, 0, 0, 0, 1, 0, 0, 1, 0, 1, 1, 0, 0, 0, 0, 1, 0, 0, 0, 0, 0, 0, 0, 1, 1, 0, 0, 0, 1, 0, 0, 1, 0, 1, 1, 0, 0, 0, 0, 1, 0, 0, 0, 0, 0, 0, 0, 1, 1, 0, 0, 0, 0, 0, 0, 1, 0, 1, 1, 0, 0, 0, 0, 1, 0, 0, 0, 0, 0, 0, 0, 1, 1, 0, 0, 0, 1, 0, 0, 1, 0, 1, 1, 0, 0, 0, 0, 1, 0, 0, 0, 0, 0, 0, 0, 1, 1, 0, 0, 0, 1, 0, 1, 0, 1, 1, 1, 0, 1, 0, 0, 1, 0, 1, 1, 0, 0, 0, 0, 1, 0, 0, 0, 0, 0, 0, 1, 0, 1, 1, 0, 1, 1, 0, 0, 1, 1, 0, 0, 0, 0, 0, 0, 1, 0, 1, 1, 0, 0, 0, 0, 1, 0, 0, 0, 0, 0, 0, 0, 1, 1, 0, 0, 0, 0, 0, 0, 1, 0, 1, 1, 0, 0, 0, 0, 1, 0, 0, 0, 0, 0, 0, 0, 1, 1, 0, 0, 0, 1, 0, 0, 1, 0, 1, 1, 0, 0, 0, 0, 1, 0, 0, 0, 0, 0, 0, 0, 1, 1, 0, 0, 0, 0, 0, 0, 1, 0, 1, 1, 0, 0, 0, 0, 1, 0, 0, 0, 0, 0, 0, 0, 1, 1, 0, 0, 0, 0, 0, 1, 0, 1, 1, 1, 0, 1, 0, 0, 1, 0, 1, 1, 0, 0, 0, 0, 1, 0, 0, 0, 0, 0, 0, 1, 0, 1, 1, 0, 1, 1, 0, 0, 1, 1, 0, 0, 0, 0, 0, 0, 1, 0, 1, 1, 0, 0, 0, 0, 1, 0, 0, 0, 0, 0, 0, 0, 1, 1, 0, 0, 0, 0, 0, 0, 1, 0, 1, 1, 0, 0, 0, 0, 1, 0, 0, 0, 0, 0, 0, 0, 1, 1, 0, 0, 0, 0, 0, 0, 1, 0, 1, 1, 0, 0, 0, 0, 1, 0, 0, 0, 0, 0, 0, 0, 1, 1, 0, 0, 0, 0, 0, 0, 1, 0, 1, 1, 0, 0, 0, 0, 1, 0, 0, 0, 0, 0, 0, 0, 1, 1, 0, 0, 0, 0, 0, 1, 0, 1, 1, 1, 0, 1, 0, 1, 0, 1, 1, 1, 0, 1, 0, 0, 1, 0, 1, 1, 0, 0, 0, 0, 1, 0, 0, 0, 0, 0, 0, 0, 1, 0, 0, 0, 1, 0, 0, 1, 1, 0, 0, 1, 0, 1, 0, 1, 1, 1, 0, 0, 1, 1, 0, 1, 1, 1, 0, 1, 0, 0, 0, 1, 1, 1, 0, 1, 0, 1, 0, 1, 1, 0, 0, 1, 0, 0, 0, 1, 1, 0, 1, 0, 0, 1, 0, 1, 1, 0, 0, 0, 0, 1, 0, 1, 1, 0, 1, 1, 1, 0, 0, 1, 1, 1, 0, 1, 0, 0, 0, 1, 1, 0, 0, 1, 0, 1, 0, 1, 1, 1, 0, 0, 1, 1, 0, 0, 1, 0, 0, 0, 1, 0, 0, 0, 1, 1, 1, 0, 1, 0, 0, 0, 1, 0, 0, 0, 0, 0, 0, 1, 0, 1, 1, 0, 1, 1, 0, 1, 0, 1, 1, 0, 1, 1, 0, 0, 1, 1, 0, 0, 0, 1, 0, 0, 1, 0, 1, 1, 0, 0, 0, 0, 1, 0, 0, 0, 0, 0, 0, 0, 1, 1, 0, 0, 1, 0, 0, 0, 1, 0, 1, 1, 0, 0, 0, 0, 1, 0, 0, 0, 0, 0, 0, 0, 1, 1, 0, 0, 1, 1, 0, 1, 0, 1, 1, 1, 0, 1, 0, 0, 1, 0, 1, 1, 0, 0, 0, 0, 1, 0, 0, 0, 0, 0, 0, 1, 0, 1, 1, 0, 1, 1, 0, 0, 1, 1, 0, 0, 0, 1, 0, 0, 1, 0, 1, 1, 0, 0, 0, 0, 1, 0, 0, 0, 0, 0, 0, 0, 1, 1, 0, 0, 1, 0, 0, 0, 1, 0, 1, 1, 0, 0, 0, 0, 1, 0, 0, 0, 0, 0, 0, 0, 1, 1, 0, 0, 1, 1, 0, 1, 0, 1, 1, 1, 0, 1, 0, 0, 1, 0, 1, 1, 0, 0, 0, 0, 1, 0, 0, 0, 0, 0, 0, 1, 0, 1, 1, 0, 1, 1, 0, 0, 1, 1, 0, 0, 0, 1, 0, 0, 1, 0, 1, 1, 0, 0, 0, 0, 1, 0, 0, 0, 0, 0, 0, 0, 1, 1, 0, 0, 1, 0, 0, 0, 1, 0, 1, 1, 0, 0, 0, 0, 1, 0, 0, 0, 0, 0, 0, 0, 1, 1, 0, 0, 1, 1, 0, 1, 0, 1, 1, 1, 0, 1, 0, 0, 1, 0, 1, 1, 0, 0, 0, 0, 1, 0, 0, 0, 0, 0, 0, 1, 0, 1, 1, 0, 1, 1, 0, 0, 1, 1, 0, 0, 0, 1, 0, 0, 1, 0, 1, 1, 0, 0, 0, 0, 1, 0, 0, 0, 0, 0, 0, 0, 1, 1, 0, 0, 1, 0, 0, 0, 1, 0, 1, 1, 0, 0, 0, 0, 1, 0, 0, 0, 0, 0, 0, 0, 1, 1, 0, 0, 1, 1, 0, 1, 0, 1, 1, 1, 0, 1, 0, 0, 1, 0, 1, 1, 0, 0, 0, 0, 1, 0, 0, 0, 0, 0, 0, 1, 0, 1, 1, 0, 1, 1, 0, 0, 1, 1, 0, 1, 0, 0, 0, 0, 1, 0, 1, 1, 0, 0, 0, 0, 1, 0, 0, 0, 0, 0, 0, 0, 1, 1, 0, 0, 1, 0, 0, 0, 1, 0, 1, 1, 0, 0, 0, 0, 1, 0, 0, 0, 0, 0, 0, 0, 1, 1, 0, 0, 1, 1, 0, 1, 0, 1, 1, 1, 0, 1, 0, 1, 0, 1, 1, 1, 0, 1, 0, 1, 1, 1, 1, 1, 0, 1]\n",
      "{'desafios': [[0, 0, 0, 0, 0], [1, 1, 0, 1, 1], [0, 0, 1, 0, 0], [0, 0, 0, 0, 0]], 'estudiantes': [[1, 2, 3], [1, 2, 3], [1, 2, 3], [1, 2, 3], [4, 2, 3]]}\n"
     ]
    }
   ],
   "source": [
    "print(obs)\n",
    "\n",
    "def binary_to_dict2(bit_array):\n",
    "    # Convertir el arreglo de bits en una cadena de bytes\n",
    "    byte_array = []\n",
    "    for i in range(0, len(bit_array), 8):\n",
    "        byte_str = ''.join(str(bit) for bit in bit_array[i:i+8])\n",
    "        byte_array.append(int(byte_str, 2))\n",
    "    # Convertir la lista de bytes a un objeto bytes\n",
    "    json_bytes = bytes(byte_array)\n",
    "    # Convertir los bytes a una cadena JSON\n",
    "    json_str = json_bytes.decode('utf-8')\n",
    "    # Convertir la cadena JSON a un diccionario\n",
    "    output_dict = json.loads(json_str)\n",
    "    return output_dict\n",
    "\n",
    "print(binary_to_dict2(obs))"
   ]
  },
  {
   "cell_type": "code",
   "execution_count": 26,
   "metadata": {},
   "outputs": [
    {
     "name": "stdout",
     "output_type": "stream",
     "text": [
      "Datos en binario (1's y 0's): 408\n",
      "Datos restaurados: {'nombre': 'Juan', 'edad': 350, 'ciudad': 'Madrid'}\n"
     ]
    }
   ],
   "source": [
    "import json\n",
    "import struct\n",
    "\n",
    "\n",
    "def dict_to_binary(input_dict):\n",
    "    # Convertir el diccionario a una cadena JSON\n",
    "    json_str = json.dumps(input_dict)\n",
    "    # Convertir la cadena JSON a bytes\n",
    "    json_bytes = json_str.encode('utf-8')\n",
    "    # Convertir los bytes a su representación en 1's y 0's\n",
    "    binary_data = ''.join(format(byte, '08b') for byte in json_bytes)\n",
    "    return binary_data\n",
    "\n",
    "def binary_to_dict(binary_data):\n",
    "    # Dividir la cadena binaria en grupos de 8 bits (1 byte)\n",
    "    byte_array = [binary_data[i:i+8] for i in range(0, len(binary_data), 8)]\n",
    "    # Convertir los grupos de 8 bits a bytes\n",
    "    json_bytes = bytes([int(byte, 2) for byte in byte_array])\n",
    "    # Convertir los bytes a una cadena JSON\n",
    "    json_str = json_bytes.decode('utf-8')\n",
    "    # Convertir la cadena JSON a un diccionario\n",
    "    output_dict = json.loads(json_str)\n",
    "    return output_dict\n",
    "\n",
    "\n",
    "# Diccionario original\n",
    "# Diccionario original\n",
    "data = {\"nombre\": \"Juan\", \"edad\": 350, \"ciudad\": \"Madrid\"}\n",
    "\n",
    "# Convertir diccionario a binario (1's y 0's)\n",
    "binary_data = dict_to_binary(data)\n",
    "print(f\"Datos en binario (1's y 0's): {len(binary_data)}\")\n",
    "\n",
    "# Convertir binario (1's y 0's) de vuelta a diccionario\n",
    "restored_data = binary_to_dict(binary_data)\n",
    "print(f\"Datos restaurados: {restored_data}\")\n"
   ]
  }
 ],
 "metadata": {
  "kernelspec": {
   "display_name": "Python 3",
   "language": "python",
   "name": "python3"
  },
  "language_info": {
   "codemirror_mode": {
    "name": "ipython",
    "version": 3
   },
   "file_extension": ".py",
   "mimetype": "text/x-python",
   "name": "python",
   "nbconvert_exporter": "python",
   "pygments_lexer": "ipython3",
   "version": "3.8.10"
  }
 },
 "nbformat": 4,
 "nbformat_minor": 2
}
