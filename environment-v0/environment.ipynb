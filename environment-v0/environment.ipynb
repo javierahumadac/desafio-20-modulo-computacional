{
 "cells": [
  {
   "cell_type": "markdown",
   "metadata": {},
   "source": [
    "# Environment"
   ]
  },
  {
   "cell_type": "markdown",
   "metadata": {},
   "source": [
    "### Imports"
   ]
  },
  {
   "cell_type": "code",
   "execution_count": null,
   "metadata": {},
   "outputs": [],
   "source": [
    "import gym\n",
    "from gym import Env, spaces"
   ]
  },
  {
   "cell_type": "markdown",
   "metadata": {},
   "source": [
    "### Definición"
   ]
  },
  {
   "cell_type": "code",
   "execution_count": null,
   "metadata": {},
   "outputs": [],
   "source": [
    "class Estudiante(object):\n",
    "    def __init__(self, id, preferencias = []):\n",
    "        self.id = id\n",
    "        self.preferencias = preferencias # IDs de desafíos\n",
    "\n",
    "class Desafio(object):\n",
    "    def __init__(self, id, estudiantes : list = []):\n",
    "        self.id = id\n",
    "        self.estudiantes = estudiantes # IDs de estudiantes\n",
    "\n",
    "    def push(self, estudiante):\n",
    "        self.estudiantes.append(estudiante)"
   ]
  },
  {
   "cell_type": "code",
   "execution_count": null,
   "metadata": {},
   "outputs": [],
   "source": [
    "num_desafios = 5\n",
    "num_estudiantes = 10\n",
    "\n",
    "\n",
    "class OrganizationEnvironment(Env):\n",
    "    def __init__(self):\n",
    "        super(OrganizationEnvironment, self).__init__()\n",
    "        \n",
    "        # Definición de espacio de observación\n",
    "        self.observation_space = spaces.Dict({\n",
    "            \"desafios\" : spaces.Tuple((\n",
    "                spaces.Discrete(num_desafios), # Número máximo de desafíos (ID desafío)\n",
    "                spaces.MultiBinary(num_estudiantes) # Número máximo de estudiantes (IDs de estudiantes que participan en los desafíos)\n",
    "            )),\n",
    "            \"estudiantes\" : spaces.Tuple((\n",
    "                spaces.Discrete(num_estudiantes), # Número máximo de estudiantes (ID estudiante)\n",
    "                spaces.MultiDiscrete([num_desafios,num_desafios,num_desafios]) # Preferencias ordenadas por\n",
    "            ))\n",
    "        })\n",
    "        \n",
    "        # Definición de espacio de acción\n",
    "        self.action_space = spaces.MultiDiscrete([num_estudiantes, num_desafios])\n",
    "    \n",
    "    def reset(self):\n",
    "        pass\n",
    "    \n",
    "    def step(self, action):\n",
    "        pass"
   ]
  }
 ],
 "metadata": {
  "language_info": {
   "name": "python"
  }
 },
 "nbformat": 4,
 "nbformat_minor": 2
}
